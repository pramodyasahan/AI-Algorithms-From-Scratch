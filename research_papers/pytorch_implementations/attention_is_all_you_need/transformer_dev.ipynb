{
 "cells": [
  {
   "cell_type": "code",
   "id": "initial_id",
   "metadata": {
    "collapsed": true,
    "ExecuteTime": {
     "end_time": "2024-09-27T12:09:01.025169Z",
     "start_time": "2024-09-27T12:08:20.036007Z"
    }
   },
   "source": [
    "from pytorch_architectures.rnn_pytorch.rnn import optimizer\n",
    "\n",
    "with open(\"./text_data/input.txt\", \"r\", encoding=\"utf-8\") as f:\n",
    "    text = f.read()\n",
    "\n",
    "print(f\"Length of the text: {len(text)}\")"
   ],
   "outputs": [
    {
     "name": "stdout",
     "output_type": "stream",
     "text": [
      "Epoch [0/1000], Loss: 3.2689\n",
      "Epoch [10/1000], Loss: 3.5174\n",
      "Epoch [20/1000], Loss: 3.3302\n",
      "Epoch [30/1000], Loss: 3.0742\n",
      "Epoch [40/1000], Loss: 2.5520\n",
      "Epoch [50/1000], Loss: 2.4241\n",
      "Epoch [60/1000], Loss: 1.7977\n",
      "Epoch [70/1000], Loss: 1.1182\n",
      "Epoch [80/1000], Loss: 1.1566\n",
      "Epoch [90/1000], Loss: 0.5229\n",
      "Epoch [100/1000], Loss: 1.9169\n",
      "Epoch [110/1000], Loss: 0.1658\n",
      "Epoch [120/1000], Loss: 0.1282\n",
      "Epoch [130/1000], Loss: 0.0488\n",
      "Epoch [140/1000], Loss: 0.0246\n",
      "Epoch [150/1000], Loss: 0.0143\n",
      "Epoch [160/1000], Loss: 0.0093\n",
      "Epoch [170/1000], Loss: 0.0065\n",
      "Epoch [180/1000], Loss: 0.0048\n",
      "Epoch [190/1000], Loss: 0.0038\n",
      "Epoch [200/1000], Loss: 0.0030\n",
      "Epoch [210/1000], Loss: 0.0025\n",
      "Epoch [220/1000], Loss: 0.0021\n",
      "Epoch [230/1000], Loss: 0.0018\n",
      "Epoch [240/1000], Loss: 0.0016\n",
      "Epoch [250/1000], Loss: 0.0014\n",
      "Epoch [260/1000], Loss: 0.0012\n",
      "Epoch [270/1000], Loss: 0.0011\n",
      "Epoch [280/1000], Loss: 0.0010\n",
      "Epoch [290/1000], Loss: 0.0009\n",
      "Epoch [300/1000], Loss: 0.0008\n",
      "Epoch [310/1000], Loss: 0.0008\n",
      "Epoch [320/1000], Loss: 0.0007\n",
      "Epoch [330/1000], Loss: 0.0006\n",
      "Epoch [340/1000], Loss: 0.0006\n",
      "Epoch [350/1000], Loss: 0.0006\n",
      "Epoch [360/1000], Loss: 0.0005\n",
      "Epoch [370/1000], Loss: 0.0005\n",
      "Epoch [380/1000], Loss: 0.0005\n",
      "Epoch [390/1000], Loss: 0.0004\n",
      "Epoch [400/1000], Loss: 0.0004\n",
      "Epoch [410/1000], Loss: 0.0004\n",
      "Epoch [420/1000], Loss: 0.0004\n",
      "Epoch [430/1000], Loss: 0.0003\n",
      "Epoch [440/1000], Loss: 0.0003\n",
      "Epoch [450/1000], Loss: 0.0003\n",
      "Epoch [460/1000], Loss: 0.0003\n",
      "Epoch [470/1000], Loss: 0.0003\n",
      "Epoch [480/1000], Loss: 0.0003\n",
      "Epoch [490/1000], Loss: 0.0003\n",
      "Epoch [500/1000], Loss: 0.0003\n",
      "Epoch [510/1000], Loss: 0.0002\n",
      "Epoch [520/1000], Loss: 0.0002\n",
      "Epoch [530/1000], Loss: 0.0002\n",
      "Epoch [540/1000], Loss: 0.0002\n",
      "Epoch [550/1000], Loss: 0.0002\n",
      "Epoch [560/1000], Loss: 0.0002\n",
      "Epoch [570/1000], Loss: 0.0002\n",
      "Epoch [580/1000], Loss: 0.0002\n",
      "Epoch [590/1000], Loss: 0.0002\n",
      "Epoch [600/1000], Loss: 0.0002\n",
      "Epoch [610/1000], Loss: 0.0002\n",
      "Epoch [620/1000], Loss: 0.0002\n",
      "Epoch [630/1000], Loss: 0.0002\n",
      "Epoch [640/1000], Loss: 0.0002\n",
      "Epoch [650/1000], Loss: 0.0002\n",
      "Epoch [660/1000], Loss: 0.0001\n",
      "Epoch [670/1000], Loss: 0.0001\n",
      "Epoch [680/1000], Loss: 0.0001\n",
      "Epoch [690/1000], Loss: 0.0001\n",
      "Epoch [700/1000], Loss: 0.0001\n",
      "Epoch [710/1000], Loss: 0.0001\n",
      "Epoch [720/1000], Loss: 0.0001\n",
      "Epoch [730/1000], Loss: 0.0001\n",
      "Epoch [740/1000], Loss: 0.0001\n",
      "Epoch [750/1000], Loss: 0.0001\n",
      "Epoch [760/1000], Loss: 0.0001\n",
      "Epoch [770/1000], Loss: 0.0001\n",
      "Epoch [780/1000], Loss: 0.0001\n",
      "Epoch [790/1000], Loss: 0.0001\n",
      "Epoch [800/1000], Loss: 0.0001\n",
      "Epoch [810/1000], Loss: 0.0001\n",
      "Epoch [820/1000], Loss: 0.0001\n",
      "Epoch [830/1000], Loss: 0.0001\n",
      "Epoch [840/1000], Loss: 0.0001\n",
      "Epoch [850/1000], Loss: 0.0001\n",
      "Epoch [860/1000], Loss: 0.0001\n",
      "Epoch [870/1000], Loss: 0.0001\n",
      "Epoch [880/1000], Loss: 0.0001\n",
      "Epoch [890/1000], Loss: 0.0001\n",
      "Epoch [900/1000], Loss: 0.0001\n",
      "Epoch [910/1000], Loss: 0.0001\n",
      "Epoch [920/1000], Loss: 0.0001\n",
      "Epoch [930/1000], Loss: 0.0001\n",
      "Epoch [940/1000], Loss: 0.0001\n",
      "Epoch [950/1000], Loss: 0.0001\n",
      "Epoch [960/1000], Loss: 0.0001\n",
      "Epoch [970/1000], Loss: 0.0001\n",
      "Epoch [980/1000], Loss: 0.0001\n",
      "Epoch [990/1000], Loss: 0.0001\n",
      "Predicted string: T  oe tou y\n",
      "Length of the text: 1125354\n"
     ]
    }
   ],
   "execution_count": 1
  },
  {
   "metadata": {
    "ExecuteTime": {
     "end_time": "2024-09-27T12:09:01.051884Z",
     "start_time": "2024-09-27T12:09:01.045716Z"
    }
   },
   "cell_type": "code",
   "source": "import torch",
   "id": "364107dd058162e6",
   "outputs": [],
   "execution_count": 2
  },
  {
   "metadata": {
    "ExecuteTime": {
     "end_time": "2024-09-27T12:09:01.189144Z",
     "start_time": "2024-09-27T12:09:01.180263Z"
    }
   },
   "cell_type": "code",
   "source": [
    "chars = sorted(list(set(text)))\n",
    "print(f\"The list of all unique characters: {chars}\")\n",
    "\n",
    "vocab_size = len(chars)\n",
    "print(''.join(chars))\n",
    "print(vocab_size)"
   ],
   "id": "e170e38a7932e3cd",
   "outputs": [
    {
     "name": "stdout",
     "output_type": "stream",
     "text": [
      "The list of all unique characters: ['\\n', ' ', '!', '$', '&', \"'\", ',', '-', '.', '3', ':', ';', '?', 'A', 'B', 'C', 'D', 'E', 'F', 'G', 'H', 'I', 'J', 'K', 'L', 'M', 'N', 'O', 'P', 'Q', 'R', 'S', 'T', 'U', 'V', 'W', 'X', 'Y', 'Z', 'a', 'b', 'c', 'd', 'e', 'f', 'g', 'h', 'i', 'j', 'k', 'l', 'm', 'n', 'o', 'p', 'q', 'r', 's', 't', 'u', 'v', 'w', 'x', 'y', 'z']\n",
      "\n",
      " !$&',-.3:;?ABCDEFGHIJKLMNOPQRSTUVWXYZabcdefghijklmnopqrstuvwxyz\n",
      "65\n"
     ]
    }
   ],
   "execution_count": 3
  },
  {
   "metadata": {
    "ExecuteTime": {
     "end_time": "2024-09-27T12:09:01.274665Z",
     "start_time": "2024-09-27T12:09:01.272183Z"
    }
   },
   "cell_type": "code",
   "source": [
    "string_to_index = {ch: i for i, ch in enumerate(chars)}\n",
    "index_to_string = {i: ch for i, ch in enumerate(chars)}\n",
    "encode = lambda s: [string_to_index[c] for c in s]\n",
    "decode = lambda l: ''.join(index_to_string[i] for i in l)\n",
    "\n",
    "print(string_to_index)\n",
    "\n",
    "print(\"\\n\\n\")\n",
    "print(encode(\"Hello world!\"))\n",
    "print(decode(encode(\"Hello world!\")))"
   ],
   "id": "740f7cfd7bc43b60",
   "outputs": [
    {
     "name": "stdout",
     "output_type": "stream",
     "text": [
      "{'\\n': 0, ' ': 1, '!': 2, '$': 3, '&': 4, \"'\": 5, ',': 6, '-': 7, '.': 8, '3': 9, ':': 10, ';': 11, '?': 12, 'A': 13, 'B': 14, 'C': 15, 'D': 16, 'E': 17, 'F': 18, 'G': 19, 'H': 20, 'I': 21, 'J': 22, 'K': 23, 'L': 24, 'M': 25, 'N': 26, 'O': 27, 'P': 28, 'Q': 29, 'R': 30, 'S': 31, 'T': 32, 'U': 33, 'V': 34, 'W': 35, 'X': 36, 'Y': 37, 'Z': 38, 'a': 39, 'b': 40, 'c': 41, 'd': 42, 'e': 43, 'f': 44, 'g': 45, 'h': 46, 'i': 47, 'j': 48, 'k': 49, 'l': 50, 'm': 51, 'n': 52, 'o': 53, 'p': 54, 'q': 55, 'r': 56, 's': 57, 't': 58, 'u': 59, 'v': 60, 'w': 61, 'x': 62, 'y': 63, 'z': 64}\n",
      "\n",
      "\n",
      "\n",
      "[20, 43, 50, 50, 53, 1, 61, 53, 56, 50, 42, 2]\n",
      "Hello world!\n"
     ]
    }
   ],
   "execution_count": 4
  },
  {
   "metadata": {
    "ExecuteTime": {
     "end_time": "2024-09-27T12:09:01.559871Z",
     "start_time": "2024-09-27T12:09:01.295142Z"
    }
   },
   "cell_type": "code",
   "source": [
    "import tiktoken\n",
    "\n",
    "enc = tiktoken.get_encoding(\"gpt2\")\n",
    "print(enc.n_vocab)\n",
    "print(enc.encode(\"Hi There\"))"
   ],
   "id": "31f5d352643bda52",
   "outputs": [
    {
     "name": "stdout",
     "output_type": "stream",
     "text": [
      "50257\n",
      "[17250, 1318]\n"
     ]
    }
   ],
   "execution_count": 5
  },
  {
   "metadata": {
    "ExecuteTime": {
     "end_time": "2024-09-27T12:09:01.642940Z",
     "start_time": "2024-09-27T12:09:01.565648Z"
    }
   },
   "cell_type": "code",
   "source": [
    "data = torch.tensor(encode(text), dtype=torch.long)\n",
    "print(data.shape, data.dtype)\n",
    "print(data[:100])"
   ],
   "id": "cb4e8646fa99a796",
   "outputs": [
    {
     "name": "stdout",
     "output_type": "stream",
     "text": [
      "torch.Size([1125354]) torch.int64\n",
      "tensor([18, 47, 56, 57, 58,  1, 15, 47, 58, 47, 64, 43, 52, 10,  0, 14, 43, 44,\n",
      "        53, 56, 43,  1, 61, 43,  1, 54, 56, 53, 41, 43, 43, 42,  1, 39, 52, 63,\n",
      "         1, 44, 59, 56, 58, 46, 43, 56,  6,  1, 46, 43, 39, 56,  1, 51, 43,  1,\n",
      "        57, 54, 43, 39, 49,  8,  0,  0, 13, 50, 50, 10,  0, 31, 54, 43, 39, 49,\n",
      "         6,  1, 57, 54, 43, 39, 49,  8,  0,  0, 18, 47, 56, 57, 58,  1, 15, 47,\n",
      "        58, 47, 64, 43, 52, 10,  0, 37, 53, 59])\n"
     ]
    }
   ],
   "execution_count": 6
  },
  {
   "metadata": {
    "ExecuteTime": {
     "end_time": "2024-09-27T12:09:01.649945Z",
     "start_time": "2024-09-27T12:09:01.648505Z"
    }
   },
   "cell_type": "code",
   "source": [
    "n = int(0.9 * len(data))\n",
    "train_data = data[:n]\n",
    "valid_data = data[n:]"
   ],
   "id": "f9d70a882ba241ed",
   "outputs": [],
   "execution_count": 7
  },
  {
   "metadata": {
    "ExecuteTime": {
     "end_time": "2024-09-27T12:09:01.659166Z",
     "start_time": "2024-09-27T12:09:01.656577Z"
    }
   },
   "cell_type": "code",
   "source": [
    "block_size = 8\n",
    "print(train_data[:block_size + 1])"
   ],
   "id": "30fb6ad91441bd66",
   "outputs": [
    {
     "name": "stdout",
     "output_type": "stream",
     "text": [
      "tensor([18, 47, 56, 57, 58,  1, 15, 47, 58])\n"
     ]
    }
   ],
   "execution_count": 8
  },
  {
   "metadata": {
    "ExecuteTime": {
     "end_time": "2024-09-27T12:09:01.678714Z",
     "start_time": "2024-09-27T12:09:01.675270Z"
    }
   },
   "cell_type": "code",
   "source": [
    "x = train_data[:block_size]\n",
    "y = train_data[1:block_size + 1]\n",
    "print(f\"\\n\\nx: {x}\")\n",
    "print(f\"y: {y}\")\n",
    "for t in range(block_size):\n",
    "    context = x[:t + 1]\n",
    "    target = y[t]\n",
    "    print(f\"When input is {context} the target is {target}\")"
   ],
   "id": "8638c5eac4f3ef6e",
   "outputs": [
    {
     "name": "stdout",
     "output_type": "stream",
     "text": [
      "\n",
      "\n",
      "x: tensor([18, 47, 56, 57, 58,  1, 15, 47])\n",
      "y: tensor([47, 56, 57, 58,  1, 15, 47, 58])\n",
      "When input is tensor([18]) the target is 47\n",
      "When input is tensor([18, 47]) the target is 56\n",
      "When input is tensor([18, 47, 56]) the target is 57\n",
      "When input is tensor([18, 47, 56, 57]) the target is 58\n",
      "When input is tensor([18, 47, 56, 57, 58]) the target is 1\n",
      "When input is tensor([18, 47, 56, 57, 58,  1]) the target is 15\n",
      "When input is tensor([18, 47, 56, 57, 58,  1, 15]) the target is 47\n",
      "When input is tensor([18, 47, 56, 57, 58,  1, 15, 47]) the target is 58\n"
     ]
    }
   ],
   "execution_count": 9
  },
  {
   "metadata": {
    "ExecuteTime": {
     "end_time": "2024-09-27T12:09:42.912101Z",
     "start_time": "2024-09-27T12:09:42.904807Z"
    }
   },
   "cell_type": "code",
   "source": [
    "torch.manual_seed(1234)\n",
    "batch_size = 4\n",
    "block_size = 8\n",
    "\n",
    "\n",
    "def get_batch(split):\n",
    "    data = train_data if split == \"train\" else valid_data\n",
    "    ix = torch.randint(len(data) - block_size, (batch_size,))\n",
    "    x = torch.stack([data[i:i + block_size] for i in ix])\n",
    "    y = torch.stack([data[i + 1:i + block_size + 1] for i in ix])\n",
    "\n",
    "    return x, y"
   ],
   "id": "16c23f5eba38fb66",
   "outputs": [],
   "execution_count": 19
  },
  {
   "metadata": {
    "ExecuteTime": {
     "end_time": "2024-09-27T12:09:01.702650Z",
     "start_time": "2024-09-27T12:09:01.699706Z"
    }
   },
   "cell_type": "code",
   "source": [
    "xb, yb = get_batch(\"train\")\n",
    "print(f\"Inputs: {xb.shape}\\n, {xb}\\n\")\n",
    "print(f\"Targets: {yb.shape}\\n, {yb}\")\n",
    "print(\"-\" * 50)"
   ],
   "id": "f40d03282a37d64b",
   "outputs": [
    {
     "name": "stdout",
     "output_type": "stream",
     "text": [
      "tensor([168055, 420071, 144026, 164285])\n",
      "Inputs: torch.Size([4, 8])\n",
      ", tensor([[47, 57,  1, 39,  1, 55, 59, 39],\n",
      "        [39, 52,  1, 47, 58,  1, 47, 57],\n",
      "        [58,  1, 61, 47, 58, 46,  1, 63],\n",
      "        [42,  1, 42, 61, 43, 50, 50, 57]])\n",
      "\n",
      "Targets: torch.Size([4, 8])\n",
      ", tensor([[57,  1, 39,  1, 55, 59, 39, 56],\n",
      "        [52,  1, 47, 58,  1, 47, 57,  1],\n",
      "        [ 1, 61, 47, 58, 46,  1, 63, 53],\n",
      "        [ 1, 42, 61, 43, 50, 50, 57, 11]])\n",
      "--------------------------------------------------\n"
     ]
    }
   ],
   "execution_count": 11
  },
  {
   "metadata": {
    "ExecuteTime": {
     "end_time": "2024-09-27T12:09:01.714396Z",
     "start_time": "2024-09-27T12:09:01.710320Z"
    }
   },
   "cell_type": "code",
   "source": [
    "for b in range(batch_size):\n",
    "    for t in range(block_size):\n",
    "        context = xb[b, :t + 1]\n",
    "        target = yb[b, t]\n",
    "        print(f\"When input is {context} the target is {target}\")"
   ],
   "id": "211251f85d6d8c9d",
   "outputs": [
    {
     "name": "stdout",
     "output_type": "stream",
     "text": [
      "When input is tensor([47]) the target is 57\n",
      "When input is tensor([47, 57]) the target is 1\n",
      "When input is tensor([47, 57,  1]) the target is 39\n",
      "When input is tensor([47, 57,  1, 39]) the target is 1\n",
      "When input is tensor([47, 57,  1, 39,  1]) the target is 55\n",
      "When input is tensor([47, 57,  1, 39,  1, 55]) the target is 59\n",
      "When input is tensor([47, 57,  1, 39,  1, 55, 59]) the target is 39\n",
      "When input is tensor([47, 57,  1, 39,  1, 55, 59, 39]) the target is 56\n",
      "When input is tensor([39]) the target is 52\n",
      "When input is tensor([39, 52]) the target is 1\n",
      "When input is tensor([39, 52,  1]) the target is 47\n",
      "When input is tensor([39, 52,  1, 47]) the target is 58\n",
      "When input is tensor([39, 52,  1, 47, 58]) the target is 1\n",
      "When input is tensor([39, 52,  1, 47, 58,  1]) the target is 47\n",
      "When input is tensor([39, 52,  1, 47, 58,  1, 47]) the target is 57\n",
      "When input is tensor([39, 52,  1, 47, 58,  1, 47, 57]) the target is 1\n",
      "When input is tensor([58]) the target is 1\n",
      "When input is tensor([58,  1]) the target is 61\n",
      "When input is tensor([58,  1, 61]) the target is 47\n",
      "When input is tensor([58,  1, 61, 47]) the target is 58\n",
      "When input is tensor([58,  1, 61, 47, 58]) the target is 46\n",
      "When input is tensor([58,  1, 61, 47, 58, 46]) the target is 1\n",
      "When input is tensor([58,  1, 61, 47, 58, 46,  1]) the target is 63\n",
      "When input is tensor([58,  1, 61, 47, 58, 46,  1, 63]) the target is 53\n",
      "When input is tensor([42]) the target is 1\n",
      "When input is tensor([42,  1]) the target is 42\n",
      "When input is tensor([42,  1, 42]) the target is 61\n",
      "When input is tensor([42,  1, 42, 61]) the target is 43\n",
      "When input is tensor([42,  1, 42, 61, 43]) the target is 50\n",
      "When input is tensor([42,  1, 42, 61, 43, 50]) the target is 50\n",
      "When input is tensor([42,  1, 42, 61, 43, 50, 50]) the target is 57\n",
      "When input is tensor([42,  1, 42, 61, 43, 50, 50, 57]) the target is 11\n"
     ]
    }
   ],
   "execution_count": 12
  },
  {
   "metadata": {
    "ExecuteTime": {
     "end_time": "2024-09-27T12:09:01.721286Z",
     "start_time": "2024-09-27T12:09:01.719776Z"
    }
   },
   "cell_type": "code",
   "source": [
    "import torch.nn as nn\n",
    "from torch.nn import functional as F"
   ],
   "id": "2c55cc98f3be0e2e",
   "outputs": [],
   "execution_count": 13
  },
  {
   "metadata": {
    "ExecuteTime": {
     "end_time": "2024-09-27T12:09:01.735832Z",
     "start_time": "2024-09-27T12:09:01.732393Z"
    }
   },
   "cell_type": "code",
   "source": [
    "torch.manual_seed(1234)\n",
    "\n",
    "\n",
    "class BigramLanguageModel(nn.Module):\n",
    "    def __init__(self, vocab_size):\n",
    "        super().__init__()\n",
    "        self.token_embedding_table = nn.Embedding(vocab_size, vocab_size)\n",
    "\n",
    "    def forward(self, idx, targets=None):\n",
    "        logits = self.token_embedding_table(idx)  # (B=4, T=8, C=65)\n",
    "\n",
    "        if targets is not None:\n",
    "            B, T, C = logits.shape\n",
    "            logits = logits.view(B * T, C)\n",
    "            targets = targets.view(B * T)\n",
    "            loss = F.cross_entropy(logits, targets)\n",
    "        else:\n",
    "            loss = None\n",
    "\n",
    "        return logits, loss\n",
    "\n",
    "    def generate(self, idx, max_new_tokens):\n",
    "        for _ in range(max_new_tokens):\n",
    "            logits, loss = self(idx)\n",
    "            logits = logits[:, -1, :]\n",
    "            probs = F.softmax(logits, dim=-1)\n",
    "            idx_next = torch.multinomial(probs, num_samples=1)\n",
    "            idx = torch.cat([idx, idx_next], dim=1)\n",
    "        return idx"
   ],
   "id": "8afa693c13df8b05",
   "outputs": [],
   "execution_count": 14
  },
  {
   "metadata": {
    "ExecuteTime": {
     "end_time": "2024-09-27T12:09:01.757964Z",
     "start_time": "2024-09-27T12:09:01.753215Z"
    }
   },
   "cell_type": "code",
   "source": [
    "m = BigramLanguageModel(vocab_size=vocab_size)\n",
    "out, loss = m(xb, yb)\n",
    "print(out.shape)\n",
    "print(loss)"
   ],
   "id": "610e721c4e6ae507",
   "outputs": [
    {
     "name": "stdout",
     "output_type": "stream",
     "text": [
      "torch.Size([32, 65])\n",
      "tensor(4.6862, grad_fn=<NllLossBackward0>)\n"
     ]
    }
   ],
   "execution_count": 15
  },
  {
   "metadata": {
    "ExecuteTime": {
     "end_time": "2024-09-27T12:09:01.776026Z",
     "start_time": "2024-09-27T12:09:01.768356Z"
    }
   },
   "cell_type": "code",
   "source": "print(decode(m.generate(idx = torch.zeros((1,1), dtype=torch.long), max_new_tokens=100)[0].tolist()))",
   "id": "ffd9350c79d44639",
   "outputs": [
    {
     "name": "stdout",
     "output_type": "stream",
     "text": [
      "\n",
      "UkBP-NBU& Y!lL ey-CofWUelZ?Jz.saHcpq!Uo's$VR&mP'xOXt3fTxwKb$!?$Kn?,aUs'ao3Jm:QcJwp\n",
      "K!Uh:mEkwOssPcDIU\n"
     ]
    }
   ],
   "execution_count": 16
  },
  {
   "metadata": {
    "ExecuteTime": {
     "end_time": "2024-09-27T12:09:01.785138Z",
     "start_time": "2024-09-27T12:09:01.783242Z"
    }
   },
   "cell_type": "code",
   "source": "optimizer = torch.optim.Adam(m.parameters(), lr=0.0001)",
   "id": "7d3618033e09a6a8",
   "outputs": [],
   "execution_count": 17
  },
  {
   "metadata": {
    "ExecuteTime": {
     "end_time": "2024-09-27T12:10:39.916288Z",
     "start_time": "2024-09-27T12:10:19.917222Z"
    }
   },
   "cell_type": "code",
   "source": [
    "batch_size = 32\n",
    "for steps in range(50000):\n",
    "    xb, yb = get_batch(\"train\")\n",
    "    \n",
    "    logits, loss = m(xb, yb)\n",
    "    optimizer.zero_grad(set_to_none=True)\n",
    "    loss.backward()\n",
    "    optimizer.step()\n",
    "    \n",
    "print(loss.item())"
   ],
   "id": "809a223ff524ad5a",
   "outputs": [
    {
     "name": "stdout",
     "output_type": "stream",
     "text": [
      "2.5752739906311035\n"
     ]
    }
   ],
   "execution_count": 22
  },
  {
   "metadata": {
    "ExecuteTime": {
     "end_time": "2024-09-27T12:10:48.395968Z",
     "start_time": "2024-09-27T12:10:48.367981Z"
    }
   },
   "cell_type": "code",
   "source": "print(decode(m.generate(idx=torch.zeros((1, 1), dtype=torch.long), max_new_tokens=400)[0].tolist()))",
   "id": "b12f735a9b2976f0",
   "outputs": [
    {
     "name": "stdout",
     "output_type": "stream",
     "text": [
      "\n",
      "GDe thowigs,\n",
      "ME meexe s be fe l st sbe.\n",
      "Y Mid t teelll dety woairloriks rearffove stier g hicome cor\n",
      "IYousio guse,KI d magher Whemer f t tsfaton gst, pl Ift RUS urod f thit no hotherckngam tholl!ur liclll T$a ice ngs,\n",
      "Ithevelde ins t hend be, hieear s trothe towichil ot?\n",
      "Sis t.\n",
      "Thod y IS beroruppofly, ubjo,\n",
      "AG sthearthat3$QULERINGULothosomeld Pfoxping t m if, o s opuilit'sthod bous pkereyo; t t:\n",
      "B\n"
     ]
    }
   ],
   "execution_count": 24
  },
  {
   "metadata": {},
   "cell_type": "code",
   "outputs": [],
   "execution_count": null,
   "source": "",
   "id": "acf69d576f93a71b"
  }
 ],
 "metadata": {
  "kernelspec": {
   "display_name": "Python 3",
   "language": "python",
   "name": "python3"
  },
  "language_info": {
   "codemirror_mode": {
    "name": "ipython",
    "version": 2
   },
   "file_extension": ".py",
   "mimetype": "text/x-python",
   "name": "python",
   "nbconvert_exporter": "python",
   "pygments_lexer": "ipython2",
   "version": "2.7.6"
  }
 },
 "nbformat": 4,
 "nbformat_minor": 5
}
