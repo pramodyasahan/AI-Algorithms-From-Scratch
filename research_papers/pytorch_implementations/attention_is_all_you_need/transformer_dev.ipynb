{
 "cells": [
  {
   "cell_type": "code",
   "id": "initial_id",
   "metadata": {
    "collapsed": true,
    "ExecuteTime": {
     "end_time": "2024-09-26T19:42:52.422828Z",
     "start_time": "2024-09-26T19:42:52.415584Z"
    }
   },
   "source": [
    "with open(\"./text_data/input.txt\", \"r\", encoding=\"utf-8\") as f:\n",
    "    text = f.read()\n",
    "\n",
    "print(f\"Length of the text: {len(text)}\")"
   ],
   "outputs": [
    {
     "name": "stdout",
     "output_type": "stream",
     "text": [
      "Length of the text: 1125354\n"
     ]
    }
   ],
   "execution_count": 1
  },
  {
   "metadata": {
    "ExecuteTime": {
     "end_time": "2024-09-26T19:42:53.448394Z",
     "start_time": "2024-09-26T19:42:52.515747Z"
    }
   },
   "cell_type": "code",
   "source": "import torch",
   "id": "364107dd058162e6",
   "outputs": [],
   "execution_count": 2
  },
  {
   "metadata": {
    "ExecuteTime": {
     "end_time": "2024-09-26T19:42:53.585979Z",
     "start_time": "2024-09-26T19:42:53.578164Z"
    }
   },
   "cell_type": "code",
   "source": [
    "chars = sorted(list(set(text)))\n",
    "print(f\"The list of all unique characters: {chars}\")\n",
    "\n",
    "vocab_size = len(chars)\n",
    "print(''.join(chars))\n",
    "print(vocab_size)"
   ],
   "id": "e170e38a7932e3cd",
   "outputs": [
    {
     "name": "stdout",
     "output_type": "stream",
     "text": [
      "The list of all unique characters: ['\\n', ' ', '!', '$', '&', \"'\", ',', '-', '.', '3', ':', ';', '?', 'A', 'B', 'C', 'D', 'E', 'F', 'G', 'H', 'I', 'J', 'K', 'L', 'M', 'N', 'O', 'P', 'Q', 'R', 'S', 'T', 'U', 'V', 'W', 'X', 'Y', 'Z', 'a', 'b', 'c', 'd', 'e', 'f', 'g', 'h', 'i', 'j', 'k', 'l', 'm', 'n', 'o', 'p', 'q', 'r', 's', 't', 'u', 'v', 'w', 'x', 'y', 'z']\n",
      "\n",
      " !$&',-.3:;?ABCDEFGHIJKLMNOPQRSTUVWXYZabcdefghijklmnopqrstuvwxyz\n",
      "65\n"
     ]
    }
   ],
   "execution_count": 3
  },
  {
   "metadata": {
    "ExecuteTime": {
     "end_time": "2024-09-26T19:42:53.648495Z",
     "start_time": "2024-09-26T19:42:53.645885Z"
    }
   },
   "cell_type": "code",
   "source": [
    "string_to_index = {ch: i for i, ch in enumerate(chars)}\n",
    "index_to_string = {i: ch for i, ch in enumerate(chars)}\n",
    "encode = lambda s: [string_to_index[c] for c in s]\n",
    "decode = lambda l: ''.join(index_to_string[i] for i in l)\n",
    "\n",
    "print(string_to_index)\n",
    "\n",
    "print(\"\\n\\n\")\n",
    "print(encode(\"Hello world!\"))\n",
    "print(decode(encode(\"Hello world!\")))"
   ],
   "id": "740f7cfd7bc43b60",
   "outputs": [
    {
     "name": "stdout",
     "output_type": "stream",
     "text": [
      "{'\\n': 0, ' ': 1, '!': 2, '$': 3, '&': 4, \"'\": 5, ',': 6, '-': 7, '.': 8, '3': 9, ':': 10, ';': 11, '?': 12, 'A': 13, 'B': 14, 'C': 15, 'D': 16, 'E': 17, 'F': 18, 'G': 19, 'H': 20, 'I': 21, 'J': 22, 'K': 23, 'L': 24, 'M': 25, 'N': 26, 'O': 27, 'P': 28, 'Q': 29, 'R': 30, 'S': 31, 'T': 32, 'U': 33, 'V': 34, 'W': 35, 'X': 36, 'Y': 37, 'Z': 38, 'a': 39, 'b': 40, 'c': 41, 'd': 42, 'e': 43, 'f': 44, 'g': 45, 'h': 46, 'i': 47, 'j': 48, 'k': 49, 'l': 50, 'm': 51, 'n': 52, 'o': 53, 'p': 54, 'q': 55, 'r': 56, 's': 57, 't': 58, 'u': 59, 'v': 60, 'w': 61, 'x': 62, 'y': 63, 'z': 64}\n",
      "\n",
      "\n",
      "\n",
      "[20, 43, 50, 50, 53, 1, 61, 53, 56, 50, 42, 2]\n",
      "Hello world!\n"
     ]
    }
   ],
   "execution_count": 4
  },
  {
   "metadata": {
    "ExecuteTime": {
     "end_time": "2024-09-26T19:42:53.918524Z",
     "start_time": "2024-09-26T19:42:53.721655Z"
    }
   },
   "cell_type": "code",
   "source": [
    "import tiktoken\n",
    "\n",
    "enc = tiktoken.get_encoding(\"gpt2\")\n",
    "print(enc.n_vocab)\n",
    "print(enc.encode(\"Hi There\"))"
   ],
   "id": "31f5d352643bda52",
   "outputs": [
    {
     "name": "stdout",
     "output_type": "stream",
     "text": [
      "50257\n",
      "[17250, 1318]\n"
     ]
    }
   ],
   "execution_count": 5
  },
  {
   "metadata": {
    "ExecuteTime": {
     "end_time": "2024-09-26T19:42:54.010415Z",
     "start_time": "2024-09-26T19:42:53.924316Z"
    }
   },
   "cell_type": "code",
   "source": [
    "data = torch.tensor(encode(text), dtype=torch.long)\n",
    "print(data.shape, data.dtype)\n",
    "print(data[:100])"
   ],
   "id": "cb4e8646fa99a796",
   "outputs": [
    {
     "name": "stdout",
     "output_type": "stream",
     "text": [
      "torch.Size([1125354]) torch.int64\n",
      "tensor([18, 47, 56, 57, 58,  1, 15, 47, 58, 47, 64, 43, 52, 10,  0, 14, 43, 44,\n",
      "        53, 56, 43,  1, 61, 43,  1, 54, 56, 53, 41, 43, 43, 42,  1, 39, 52, 63,\n",
      "         1, 44, 59, 56, 58, 46, 43, 56,  6,  1, 46, 43, 39, 56,  1, 51, 43,  1,\n",
      "        57, 54, 43, 39, 49,  8,  0,  0, 13, 50, 50, 10,  0, 31, 54, 43, 39, 49,\n",
      "         6,  1, 57, 54, 43, 39, 49,  8,  0,  0, 18, 47, 56, 57, 58,  1, 15, 47,\n",
      "        58, 47, 64, 43, 52, 10,  0, 37, 53, 59])\n"
     ]
    }
   ],
   "execution_count": 6
  },
  {
   "metadata": {
    "ExecuteTime": {
     "end_time": "2024-09-26T19:42:54.084450Z",
     "start_time": "2024-09-26T19:42:54.080925Z"
    }
   },
   "cell_type": "code",
   "source": [
    "n = int(0.9 * len(data))\n",
    "train_data = data[:n]\n",
    "valid_data = data[n:]"
   ],
   "id": "f9d70a882ba241ed",
   "outputs": [],
   "execution_count": 7
  },
  {
   "metadata": {
    "ExecuteTime": {
     "end_time": "2024-09-26T19:42:54.109040Z",
     "start_time": "2024-09-26T19:42:54.105973Z"
    }
   },
   "cell_type": "code",
   "source": [
    "block_size = 8\n",
    "print(train_data[:block_size + 1])"
   ],
   "id": "30fb6ad91441bd66",
   "outputs": [
    {
     "name": "stdout",
     "output_type": "stream",
     "text": [
      "tensor([18, 47, 56, 57, 58,  1, 15, 47, 58])\n"
     ]
    }
   ],
   "execution_count": 8
  },
  {
   "metadata": {
    "ExecuteTime": {
     "end_time": "2024-09-26T19:42:54.140845Z",
     "start_time": "2024-09-26T19:42:54.135174Z"
    }
   },
   "cell_type": "code",
   "source": [
    "x = train_data[:block_size]\n",
    "y = train_data[1:block_size + 1]\n",
    "print(f\"\\n\\nx: {x}\")\n",
    "print(f\"y: {y}\")\n",
    "for t in range(block_size):\n",
    "    context = x[:t + 1]\n",
    "    target = y[t]\n",
    "    print(f\"When input is {context} the target is {target}\")"
   ],
   "id": "8638c5eac4f3ef6e",
   "outputs": [
    {
     "name": "stdout",
     "output_type": "stream",
     "text": [
      "\n",
      "\n",
      "x: tensor([18, 47, 56, 57, 58,  1, 15, 47])\n",
      "y: tensor([47, 56, 57, 58,  1, 15, 47, 58])\n",
      "When input is tensor([18]) the target is 47\n",
      "When input is tensor([18, 47]) the target is 56\n",
      "When input is tensor([18, 47, 56]) the target is 57\n",
      "When input is tensor([18, 47, 56, 57]) the target is 58\n",
      "When input is tensor([18, 47, 56, 57, 58]) the target is 1\n",
      "When input is tensor([18, 47, 56, 57, 58,  1]) the target is 15\n",
      "When input is tensor([18, 47, 56, 57, 58,  1, 15]) the target is 47\n",
      "When input is tensor([18, 47, 56, 57, 58,  1, 15, 47]) the target is 58\n"
     ]
    }
   ],
   "execution_count": 9
  },
  {
   "metadata": {
    "ExecuteTime": {
     "end_time": "2024-09-26T19:42:54.176496Z",
     "start_time": "2024-09-26T19:42:54.170105Z"
    }
   },
   "cell_type": "code",
   "source": [
    "torch.manual_seed(1234)\n",
    "batch_size = 4\n",
    "block_size = 8\n",
    "\n",
    "\n",
    "def get_batch(split):\n",
    "    data = train_data if split == \"train\" else valid_data\n",
    "    ix = torch.randint(len(data) - block_size, (batch_size,))\n",
    "    print(ix)\n",
    "    x = torch.stack([data[i:i + block_size] for i in ix])\n",
    "    y = torch.stack([data[i + 1:i + block_size + 1] for i in ix])\n",
    "\n",
    "    return x, y"
   ],
   "id": "16c23f5eba38fb66",
   "outputs": [],
   "execution_count": 10
  },
  {
   "metadata": {
    "ExecuteTime": {
     "end_time": "2024-09-26T19:42:54.194218Z",
     "start_time": "2024-09-26T19:42:54.185740Z"
    }
   },
   "cell_type": "code",
   "source": [
    "xb, yb = get_batch(\"train\")\n",
    "print(f\"Inputs: {xb.shape}\\n, {xb}\\n\")\n",
    "print(f\"Targets: {yb.shape}\\n, {yb}\")\n",
    "print(\"-\" * 50)"
   ],
   "id": "f40d03282a37d64b",
   "outputs": [
    {
     "name": "stdout",
     "output_type": "stream",
     "text": [
      "tensor([168055, 420071, 144026, 164285])\n",
      "Inputs: torch.Size([4, 8])\n",
      ", tensor([[47, 57,  1, 39,  1, 55, 59, 39],\n",
      "        [39, 52,  1, 47, 58,  1, 47, 57],\n",
      "        [58,  1, 61, 47, 58, 46,  1, 63],\n",
      "        [42,  1, 42, 61, 43, 50, 50, 57]])\n",
      "\n",
      "Targets: torch.Size([4, 8])\n",
      ", tensor([[57,  1, 39,  1, 55, 59, 39, 56],\n",
      "        [52,  1, 47, 58,  1, 47, 57,  1],\n",
      "        [ 1, 61, 47, 58, 46,  1, 63, 53],\n",
      "        [ 1, 42, 61, 43, 50, 50, 57, 11]])\n",
      "--------------------------------------------------\n"
     ]
    }
   ],
   "execution_count": 11
  },
  {
   "metadata": {
    "ExecuteTime": {
     "end_time": "2024-09-26T19:42:54.215606Z",
     "start_time": "2024-09-26T19:42:54.207138Z"
    }
   },
   "cell_type": "code",
   "source": [
    "for b in range(batch_size):\n",
    "    for t in range(block_size):\n",
    "        context = xb[b, :t + 1]\n",
    "        target = yb[b, t]\n",
    "        print(f\"When input is {context} the target is {target}\")"
   ],
   "id": "211251f85d6d8c9d",
   "outputs": [
    {
     "name": "stdout",
     "output_type": "stream",
     "text": [
      "When input is tensor([47]) the target is 57\n",
      "When input is tensor([47, 57]) the target is 1\n",
      "When input is tensor([47, 57,  1]) the target is 39\n",
      "When input is tensor([47, 57,  1, 39]) the target is 1\n",
      "When input is tensor([47, 57,  1, 39,  1]) the target is 55\n",
      "When input is tensor([47, 57,  1, 39,  1, 55]) the target is 59\n",
      "When input is tensor([47, 57,  1, 39,  1, 55, 59]) the target is 39\n",
      "When input is tensor([47, 57,  1, 39,  1, 55, 59, 39]) the target is 56\n",
      "When input is tensor([39]) the target is 52\n",
      "When input is tensor([39, 52]) the target is 1\n",
      "When input is tensor([39, 52,  1]) the target is 47\n",
      "When input is tensor([39, 52,  1, 47]) the target is 58\n",
      "When input is tensor([39, 52,  1, 47, 58]) the target is 1\n",
      "When input is tensor([39, 52,  1, 47, 58,  1]) the target is 47\n",
      "When input is tensor([39, 52,  1, 47, 58,  1, 47]) the target is 57\n",
      "When input is tensor([39, 52,  1, 47, 58,  1, 47, 57]) the target is 1\n",
      "When input is tensor([58]) the target is 1\n",
      "When input is tensor([58,  1]) the target is 61\n",
      "When input is tensor([58,  1, 61]) the target is 47\n",
      "When input is tensor([58,  1, 61, 47]) the target is 58\n",
      "When input is tensor([58,  1, 61, 47, 58]) the target is 46\n",
      "When input is tensor([58,  1, 61, 47, 58, 46]) the target is 1\n",
      "When input is tensor([58,  1, 61, 47, 58, 46,  1]) the target is 63\n",
      "When input is tensor([58,  1, 61, 47, 58, 46,  1, 63]) the target is 53\n",
      "When input is tensor([42]) the target is 1\n",
      "When input is tensor([42,  1]) the target is 42\n",
      "When input is tensor([42,  1, 42]) the target is 61\n",
      "When input is tensor([42,  1, 42, 61]) the target is 43\n",
      "When input is tensor([42,  1, 42, 61, 43]) the target is 50\n",
      "When input is tensor([42,  1, 42, 61, 43, 50]) the target is 50\n",
      "When input is tensor([42,  1, 42, 61, 43, 50, 50]) the target is 57\n",
      "When input is tensor([42,  1, 42, 61, 43, 50, 50, 57]) the target is 11\n"
     ]
    }
   ],
   "execution_count": 12
  },
  {
   "metadata": {
    "ExecuteTime": {
     "end_time": "2024-09-26T19:45:59.030220Z",
     "start_time": "2024-09-26T19:45:59.006843Z"
    }
   },
   "cell_type": "code",
   "source": [
    "import torch.nn as nn\n",
    "from torch.nn import functional as F"
   ],
   "id": "2c55cc98f3be0e2e",
   "outputs": [],
   "execution_count": 13
  },
  {
   "metadata": {
    "ExecuteTime": {
     "end_time": "2024-09-26T19:55:37.249216Z",
     "start_time": "2024-09-26T19:55:37.230756Z"
    }
   },
   "cell_type": "code",
   "source": [
    "torch.manual_seed(1234)\n",
    "\n",
    "\n",
    "class BigramLanguageModel(nn.Module):\n",
    "    def __init__(self, vocab_size):\n",
    "        super().__init__()\n",
    "        self.token_embedding_table = nn.Embedding(vocab_size, vocab_size)\n",
    "        print(self.token_embedding_table)\n",
    "\n",
    "    def forward(self, idx, targets):\n",
    "        logits = self.token_embedding_table(idx)  # (B=4, T=8, C=65)\n",
    "\n",
    "        B, T, C = logits.shape\n",
    "        logits = logits.view(B * T, C)\n",
    "        targets = targets.view(B * T)\n",
    "        loss = F.cross_entropy(logits, targets)\n",
    "\n",
    "        return logits, loss\n",
    "\n",
    "    def generate(self, idx, max_new_tokens):\n",
    "        for _ in range(max_new_tokens):\n",
    "            logits, loss = self(idx)\n",
    "            logits = logits[:, -1, :]\n",
    "            probs = F.softmax(logits, dim=-1)\n",
    "            idx_next = torch.multinomial(probs, num_samples=1)\n",
    "            idx = torch.cat([idx, idx_next], dim=1)\n",
    "            return idx"
   ],
   "id": "8afa693c13df8b05",
   "outputs": [],
   "execution_count": 25
  },
  {
   "metadata": {
    "ExecuteTime": {
     "end_time": "2024-09-26T19:55:38.156881Z",
     "start_time": "2024-09-26T19:55:38.134498Z"
    }
   },
   "cell_type": "code",
   "source": [
    "m = BigramLanguageModel(vocab_size=vocab_size)\n",
    "out, loss = m(xb, yb)\n",
    "print(out.shape)\n",
    "print(loss)"
   ],
   "id": "610e721c4e6ae507",
   "outputs": [
    {
     "name": "stdout",
     "output_type": "stream",
     "text": [
      "Embedding(65, 65)\n",
      "torch.Size([32, 65])\n",
      "tensor(4.6862, grad_fn=<NllLossBackward0>)\n"
     ]
    }
   ],
   "execution_count": 26
  },
  {
   "metadata": {},
   "cell_type": "code",
   "outputs": [],
   "execution_count": null,
   "source": "",
   "id": "ffd9350c79d44639"
  }
 ],
 "metadata": {
  "kernelspec": {
   "display_name": "Python 3",
   "language": "python",
   "name": "python3"
  },
  "language_info": {
   "codemirror_mode": {
    "name": "ipython",
    "version": 2
   },
   "file_extension": ".py",
   "mimetype": "text/x-python",
   "name": "python",
   "nbconvert_exporter": "python",
   "pygments_lexer": "ipython2",
   "version": "2.7.6"
  }
 },
 "nbformat": 4,
 "nbformat_minor": 5
}
